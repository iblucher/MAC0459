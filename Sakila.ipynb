{
 "cells": [
  {
   "cell_type": "markdown",
   "metadata": {},
   "source": [
    "# Desnormalizando e analisando o Sakila"
   ]
  },
  {
   "cell_type": "markdown",
   "metadata": {},
   "source": [
    "## Imports"
   ]
  },
  {
   "cell_type": "code",
   "execution_count": 15,
   "metadata": {},
   "outputs": [],
   "source": [
    "import matplotlib.pyplot as plt\n",
    "import pandas as pd"
   ]
  },
  {
   "cell_type": "markdown",
   "metadata": {},
   "source": [
    "## Questão 1: Qual gênero de filme é mais alugado? E qual gênero de filme tem o maior preço médio de locação?"
   ]
  },
  {
   "cell_type": "markdown",
   "metadata": {},
   "source": [
    "Para responder a primeira pergunta a seguinte consulta SQL foi feita:\n",
    "\n",
    "~~~ mysql\n",
    "SELECT  \n",
    "\tfilm.film_id,\n",
    "\tfilm.title,\n",
    "\tfilm.rental_duration,\n",
    "\tfilm.rental_rate,\n",
    "\tfilm_category.category_id,\n",
    "\tcategory.name\n",
    "FROM film \n",
    "LEFT JOIN film_category ON film.film_id = film_category.film_id\n",
    "LEFT JOIN category ON film_category.category_id = category.category_id\n",
    "~~~\n",
    "\n",
    "Isso nos retorna uma tabela com os filmes, seus títulos, por quanto tempo foram alugados, o preço de locação e seu gênero. Com isso conseguimos agrupar os filmes por gênero e analisar tanto o preço quanto a duração da locação para descobrirmos o gênero mais alugado e mais caro. Exportamos a tabela resultante da query para o formato csv e assim é possível usar a biblioteca Pandas para fazer a análise."
   ]
  },
  {
   "cell_type": "code",
   "execution_count": 3,
   "metadata": {},
   "outputs": [
    {
     "data": {
      "text/html": [
       "<div>\n",
       "<style scoped>\n",
       "    .dataframe tbody tr th:only-of-type {\n",
       "        vertical-align: middle;\n",
       "    }\n",
       "\n",
       "    .dataframe tbody tr th {\n",
       "        vertical-align: top;\n",
       "    }\n",
       "\n",
       "    .dataframe thead th {\n",
       "        text-align: right;\n",
       "    }\n",
       "</style>\n",
       "<table border=\"1\" class=\"dataframe\">\n",
       "  <thead>\n",
       "    <tr style=\"text-align: right;\">\n",
       "      <th></th>\n",
       "      <th>film_id</th>\n",
       "      <th>title</th>\n",
       "      <th>rental_duration</th>\n",
       "      <th>rental_rate</th>\n",
       "      <th>category_id</th>\n",
       "      <th>name</th>\n",
       "    </tr>\n",
       "  </thead>\n",
       "  <tbody>\n",
       "    <tr>\n",
       "      <th>0</th>\n",
       "      <td>1</td>\n",
       "      <td>ACADEMY DINOSAUR</td>\n",
       "      <td>6</td>\n",
       "      <td>0.99</td>\n",
       "      <td>6</td>\n",
       "      <td>Documentary</td>\n",
       "    </tr>\n",
       "    <tr>\n",
       "      <th>1</th>\n",
       "      <td>2</td>\n",
       "      <td>ACE GOLDFINGER</td>\n",
       "      <td>3</td>\n",
       "      <td>4.99</td>\n",
       "      <td>11</td>\n",
       "      <td>Horror</td>\n",
       "    </tr>\n",
       "    <tr>\n",
       "      <th>2</th>\n",
       "      <td>3</td>\n",
       "      <td>ADAPTATION HOLES</td>\n",
       "      <td>7</td>\n",
       "      <td>2.99</td>\n",
       "      <td>6</td>\n",
       "      <td>Documentary</td>\n",
       "    </tr>\n",
       "    <tr>\n",
       "      <th>3</th>\n",
       "      <td>4</td>\n",
       "      <td>AFFAIR PREJUDICE</td>\n",
       "      <td>5</td>\n",
       "      <td>2.99</td>\n",
       "      <td>11</td>\n",
       "      <td>Horror</td>\n",
       "    </tr>\n",
       "    <tr>\n",
       "      <th>4</th>\n",
       "      <td>5</td>\n",
       "      <td>AFRICAN EGG</td>\n",
       "      <td>6</td>\n",
       "      <td>2.99</td>\n",
       "      <td>8</td>\n",
       "      <td>Family</td>\n",
       "    </tr>\n",
       "  </tbody>\n",
       "</table>\n",
       "</div>"
      ],
      "text/plain": [
       "   film_id             title  rental_duration  rental_rate  category_id  \\\n",
       "0        1  ACADEMY DINOSAUR                6         0.99            6   \n",
       "1        2    ACE GOLDFINGER                3         4.99           11   \n",
       "2        3  ADAPTATION HOLES                7         2.99            6   \n",
       "3        4  AFFAIR PREJUDICE                5         2.99           11   \n",
       "4        5       AFRICAN EGG                6         2.99            8   \n",
       "\n",
       "          name  \n",
       "0  Documentary  \n",
       "1       Horror  \n",
       "2  Documentary  \n",
       "3       Horror  \n",
       "4       Family  "
      ]
     },
     "execution_count": 3,
     "metadata": {},
     "output_type": "execute_result"
    }
   ],
   "source": [
    "film_genres = pd.read_csv('q1.csv')\n",
    "film_genres.head()"
   ]
  },
  {
   "cell_type": "code",
   "execution_count": 9,
   "metadata": {},
   "outputs": [
    {
     "data": {
      "text/html": [
       "<div>\n",
       "<style scoped>\n",
       "    .dataframe tbody tr th:only-of-type {\n",
       "        vertical-align: middle;\n",
       "    }\n",
       "\n",
       "    .dataframe tbody tr th {\n",
       "        vertical-align: top;\n",
       "    }\n",
       "\n",
       "    .dataframe thead th {\n",
       "        text-align: right;\n",
       "    }\n",
       "</style>\n",
       "<table border=\"1\" class=\"dataframe\">\n",
       "  <thead>\n",
       "    <tr style=\"text-align: right;\">\n",
       "      <th></th>\n",
       "      <th>rental_duration</th>\n",
       "      <th>rental_rate</th>\n",
       "    </tr>\n",
       "    <tr>\n",
       "      <th>name</th>\n",
       "      <th></th>\n",
       "      <th></th>\n",
       "    </tr>\n",
       "  </thead>\n",
       "  <tbody>\n",
       "    <tr>\n",
       "      <th>Action</th>\n",
       "      <td>4.953125</td>\n",
       "      <td>2.646250</td>\n",
       "    </tr>\n",
       "    <tr>\n",
       "      <th>Animation</th>\n",
       "      <td>4.893939</td>\n",
       "      <td>2.808182</td>\n",
       "    </tr>\n",
       "    <tr>\n",
       "      <th>Children</th>\n",
       "      <td>5.033333</td>\n",
       "      <td>2.890000</td>\n",
       "    </tr>\n",
       "    <tr>\n",
       "      <th>Classics</th>\n",
       "      <td>5.070175</td>\n",
       "      <td>2.744386</td>\n",
       "    </tr>\n",
       "    <tr>\n",
       "      <th>Comedy</th>\n",
       "      <td>4.931034</td>\n",
       "      <td>3.162414</td>\n",
       "    </tr>\n",
       "    <tr>\n",
       "      <th>Documentary</th>\n",
       "      <td>4.764706</td>\n",
       "      <td>2.666471</td>\n",
       "    </tr>\n",
       "    <tr>\n",
       "      <th>Drama</th>\n",
       "      <td>5.080645</td>\n",
       "      <td>3.022258</td>\n",
       "    </tr>\n",
       "    <tr>\n",
       "      <th>Family</th>\n",
       "      <td>5.173913</td>\n",
       "      <td>2.758116</td>\n",
       "    </tr>\n",
       "    <tr>\n",
       "      <th>Foreign</th>\n",
       "      <td>5.109589</td>\n",
       "      <td>3.099589</td>\n",
       "    </tr>\n",
       "    <tr>\n",
       "      <th>Games</th>\n",
       "      <td>5.065574</td>\n",
       "      <td>3.252295</td>\n",
       "    </tr>\n",
       "    <tr>\n",
       "      <th>Horror</th>\n",
       "      <td>4.857143</td>\n",
       "      <td>3.025714</td>\n",
       "    </tr>\n",
       "    <tr>\n",
       "      <th>Music</th>\n",
       "      <td>5.235294</td>\n",
       "      <td>2.950784</td>\n",
       "    </tr>\n",
       "    <tr>\n",
       "      <th>New</th>\n",
       "      <td>4.746032</td>\n",
       "      <td>3.116984</td>\n",
       "    </tr>\n",
       "    <tr>\n",
       "      <th>Sci-Fi</th>\n",
       "      <td>4.885246</td>\n",
       "      <td>3.219508</td>\n",
       "    </tr>\n",
       "    <tr>\n",
       "      <th>Sports</th>\n",
       "      <td>4.716216</td>\n",
       "      <td>3.125135</td>\n",
       "    </tr>\n",
       "    <tr>\n",
       "      <th>Travel</th>\n",
       "      <td>5.350877</td>\n",
       "      <td>3.235614</td>\n",
       "    </tr>\n",
       "  </tbody>\n",
       "</table>\n",
       "</div>"
      ],
      "text/plain": [
       "             rental_duration  rental_rate\n",
       "name                                     \n",
       "Action              4.953125     2.646250\n",
       "Animation           4.893939     2.808182\n",
       "Children            5.033333     2.890000\n",
       "Classics            5.070175     2.744386\n",
       "Comedy              4.931034     3.162414\n",
       "Documentary         4.764706     2.666471\n",
       "Drama               5.080645     3.022258\n",
       "Family              5.173913     2.758116\n",
       "Foreign             5.109589     3.099589\n",
       "Games               5.065574     3.252295\n",
       "Horror              4.857143     3.025714\n",
       "Music               5.235294     2.950784\n",
       "New                 4.746032     3.116984\n",
       "Sci-Fi              4.885246     3.219508\n",
       "Sports              4.716216     3.125135\n",
       "Travel              5.350877     3.235614"
      ]
     },
     "execution_count": 9,
     "metadata": {},
     "output_type": "execute_result"
    }
   ],
   "source": [
    "grouped_genres = film_genres.groupby('name').mean()[['rental_duration', 'rental_rate']]\n",
    "grouped_genres"
   ]
  },
  {
   "cell_type": "code",
   "execution_count": 11,
   "metadata": {},
   "outputs": [
    {
     "data": {
      "text/plain": [
       "rental_duration    Travel\n",
       "rental_rate         Games\n",
       "dtype: object"
      ]
     },
     "execution_count": 11,
     "metadata": {},
     "output_type": "execute_result"
    }
   ],
   "source": [
    "grouped_genres.idxmax()"
   ]
  },
  {
   "cell_type": "markdown",
   "metadata": {},
   "source": [
    "Agrupando os filmes por gênero e usando a média como função de agregação para as variáveis que estamos interessados, obtemos a tabela acima. Com a função idxmax() vemos que o gênero que tem maior tempo de locação médio, ou seja, o gênero mais alugado é \"Travel\" e o gênero com maior preço de locação médio é \"Games\"."
   ]
  },
  {
   "cell_type": "markdown",
   "metadata": {},
   "source": [
    "Para fins de comparação, podemos ilustrar os resultados da tabela acima em forma de gráfico."
   ]
  },
  {
   "cell_type": "code",
   "execution_count": null,
   "metadata": {},
   "outputs": [],
   "source": [
    "grouped_genres.plot(y = ['rental_duration', 'rental_rate'], kind = 'bar')"
   ]
  },
  {
   "cell_type": "markdown",
   "metadata": {},
   "source": [
    "## Questão 2: "
   ]
  },
  {
   "cell_type": "markdown",
   "metadata": {},
   "source": [
    "## Questão 3:"
   ]
  },
  {
   "cell_type": "markdown",
   "metadata": {},
   "source": [
    "## Questão 4: Apresente evidências que os dados do Sakila são, ou não reais"
   ]
  },
  {
   "cell_type": "code",
   "execution_count": null,
   "metadata": {},
   "outputs": [],
   "source": []
  }
 ],
 "metadata": {
  "kernelspec": {
   "display_name": "Python [conda env:default-py2]",
   "language": "python",
   "name": "conda-env-default-py2-py"
  },
  "language_info": {
   "codemirror_mode": {
    "name": "ipython",
    "version": 2
   },
   "file_extension": ".py",
   "mimetype": "text/x-python",
   "name": "python",
   "nbconvert_exporter": "python",
   "pygments_lexer": "ipython2",
   "version": "2.7.14"
  }
 },
 "nbformat": 4,
 "nbformat_minor": 2
}
