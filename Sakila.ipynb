{
 "cells": [
  {
   "cell_type": "markdown",
   "metadata": {},
   "source": [
    "# Desnormalizando e analisando o Sakila"
   ]
  },
  {
   "cell_type": "markdown",
   "metadata": {},
   "source": [
    "## Imports"
   ]
  },
  {
   "cell_type": "code",
   "execution_count": 18,
   "metadata": {},
   "outputs": [],
   "source": [
    "import matplotlib.pyplot as plt\n",
    "import pandas as pd\n",
    "from datetime import datetime\n",
    "\n",
    "plt.rcParams['figure.figsize'] = (20.0, 10.0)"
   ]
  },
  {
   "cell_type": "markdown",
   "metadata": {},
   "source": [
    "## Questão 1: Qual gênero de filme é alugado por mais tempo? E qual gênero de filme tem o maior preço médio de locação?"
   ]
  },
  {
   "cell_type": "markdown",
   "metadata": {},
   "source": [
    "Para responder essa pergunta fazemos a seguinte consulta em SQL para obter os dados:\n",
    "\n",
    "~~~ mysql\n",
    "SELECT  \n",
    "\tfilm.film_id,\n",
    "\tfilm.title,\n",
    "\tfilm.rental_duration,\n",
    "\tfilm.rental_rate,\n",
    "\tfilm_category.category_id,\n",
    "\tcategory.name\n",
    "FROM film \n",
    "LEFT JOIN film_category ON film.film_id = film_category.film_id\n",
    "LEFT JOIN category ON film_category.category_id = category.category_id\n",
    "~~~\n",
    "\n",
    "Isso nos retorna uma tabela com os filmes, seus títulos, por quanto tempo ficam alugados, o preço de locação e seu gênero. Com isso conseguimos agrupar os filmes por gênero e analisar tanto o preço quanto a duração da locação para descobrirmos o gênero alugado por mais tempo e mais caro. Exportamos a tabela resultante da query para o formato csv e assim é possível usar a biblioteca Pandas para fazer a análise."
   ]
  },
  {
   "cell_type": "code",
   "execution_count": 2,
   "metadata": {},
   "outputs": [
    {
     "data": {
      "text/html": [
       "<div>\n",
       "<style scoped>\n",
       "    .dataframe tbody tr th:only-of-type {\n",
       "        vertical-align: middle;\n",
       "    }\n",
       "\n",
       "    .dataframe tbody tr th {\n",
       "        vertical-align: top;\n",
       "    }\n",
       "\n",
       "    .dataframe thead th {\n",
       "        text-align: right;\n",
       "    }\n",
       "</style>\n",
       "<table border=\"1\" class=\"dataframe\">\n",
       "  <thead>\n",
       "    <tr style=\"text-align: right;\">\n",
       "      <th></th>\n",
       "      <th>film_id</th>\n",
       "      <th>title</th>\n",
       "      <th>rental_duration</th>\n",
       "      <th>rental_rate</th>\n",
       "      <th>category_id</th>\n",
       "      <th>name</th>\n",
       "    </tr>\n",
       "  </thead>\n",
       "  <tbody>\n",
       "    <tr>\n",
       "      <th>0</th>\n",
       "      <td>1</td>\n",
       "      <td>ACADEMY DINOSAUR</td>\n",
       "      <td>6</td>\n",
       "      <td>0.99</td>\n",
       "      <td>6</td>\n",
       "      <td>Documentary</td>\n",
       "    </tr>\n",
       "    <tr>\n",
       "      <th>1</th>\n",
       "      <td>2</td>\n",
       "      <td>ACE GOLDFINGER</td>\n",
       "      <td>3</td>\n",
       "      <td>4.99</td>\n",
       "      <td>11</td>\n",
       "      <td>Horror</td>\n",
       "    </tr>\n",
       "    <tr>\n",
       "      <th>2</th>\n",
       "      <td>3</td>\n",
       "      <td>ADAPTATION HOLES</td>\n",
       "      <td>7</td>\n",
       "      <td>2.99</td>\n",
       "      <td>6</td>\n",
       "      <td>Documentary</td>\n",
       "    </tr>\n",
       "    <tr>\n",
       "      <th>3</th>\n",
       "      <td>4</td>\n",
       "      <td>AFFAIR PREJUDICE</td>\n",
       "      <td>5</td>\n",
       "      <td>2.99</td>\n",
       "      <td>11</td>\n",
       "      <td>Horror</td>\n",
       "    </tr>\n",
       "    <tr>\n",
       "      <th>4</th>\n",
       "      <td>5</td>\n",
       "      <td>AFRICAN EGG</td>\n",
       "      <td>6</td>\n",
       "      <td>2.99</td>\n",
       "      <td>8</td>\n",
       "      <td>Family</td>\n",
       "    </tr>\n",
       "  </tbody>\n",
       "</table>\n",
       "</div>"
      ],
      "text/plain": [
       "   film_id             title  rental_duration  rental_rate  category_id  \\\n",
       "0        1  ACADEMY DINOSAUR                6         0.99            6   \n",
       "1        2    ACE GOLDFINGER                3         4.99           11   \n",
       "2        3  ADAPTATION HOLES                7         2.99            6   \n",
       "3        4  AFFAIR PREJUDICE                5         2.99           11   \n",
       "4        5       AFRICAN EGG                6         2.99            8   \n",
       "\n",
       "          name  \n",
       "0  Documentary  \n",
       "1       Horror  \n",
       "2  Documentary  \n",
       "3       Horror  \n",
       "4       Family  "
      ]
     },
     "execution_count": 2,
     "metadata": {},
     "output_type": "execute_result"
    }
   ],
   "source": [
    "film_genres = pd.read_csv('q1.csv')\n",
    "film_genres.head()"
   ]
  },
  {
   "cell_type": "code",
   "execution_count": 3,
   "metadata": {},
   "outputs": [
    {
     "data": {
      "text/html": [
       "<div>\n",
       "<style scoped>\n",
       "    .dataframe tbody tr th:only-of-type {\n",
       "        vertical-align: middle;\n",
       "    }\n",
       "\n",
       "    .dataframe tbody tr th {\n",
       "        vertical-align: top;\n",
       "    }\n",
       "\n",
       "    .dataframe thead th {\n",
       "        text-align: right;\n",
       "    }\n",
       "</style>\n",
       "<table border=\"1\" class=\"dataframe\">\n",
       "  <thead>\n",
       "    <tr style=\"text-align: right;\">\n",
       "      <th></th>\n",
       "      <th>rental_duration</th>\n",
       "      <th>rental_rate</th>\n",
       "    </tr>\n",
       "    <tr>\n",
       "      <th>name</th>\n",
       "      <th></th>\n",
       "      <th></th>\n",
       "    </tr>\n",
       "  </thead>\n",
       "  <tbody>\n",
       "    <tr>\n",
       "      <th>Action</th>\n",
       "      <td>4.953125</td>\n",
       "      <td>2.646250</td>\n",
       "    </tr>\n",
       "    <tr>\n",
       "      <th>Animation</th>\n",
       "      <td>4.893939</td>\n",
       "      <td>2.808182</td>\n",
       "    </tr>\n",
       "    <tr>\n",
       "      <th>Children</th>\n",
       "      <td>5.033333</td>\n",
       "      <td>2.890000</td>\n",
       "    </tr>\n",
       "    <tr>\n",
       "      <th>Classics</th>\n",
       "      <td>5.070175</td>\n",
       "      <td>2.744386</td>\n",
       "    </tr>\n",
       "    <tr>\n",
       "      <th>Comedy</th>\n",
       "      <td>4.931034</td>\n",
       "      <td>3.162414</td>\n",
       "    </tr>\n",
       "    <tr>\n",
       "      <th>Documentary</th>\n",
       "      <td>4.764706</td>\n",
       "      <td>2.666471</td>\n",
       "    </tr>\n",
       "    <tr>\n",
       "      <th>Drama</th>\n",
       "      <td>5.080645</td>\n",
       "      <td>3.022258</td>\n",
       "    </tr>\n",
       "    <tr>\n",
       "      <th>Family</th>\n",
       "      <td>5.173913</td>\n",
       "      <td>2.758116</td>\n",
       "    </tr>\n",
       "    <tr>\n",
       "      <th>Foreign</th>\n",
       "      <td>5.109589</td>\n",
       "      <td>3.099589</td>\n",
       "    </tr>\n",
       "    <tr>\n",
       "      <th>Games</th>\n",
       "      <td>5.065574</td>\n",
       "      <td>3.252295</td>\n",
       "    </tr>\n",
       "    <tr>\n",
       "      <th>Horror</th>\n",
       "      <td>4.857143</td>\n",
       "      <td>3.025714</td>\n",
       "    </tr>\n",
       "    <tr>\n",
       "      <th>Music</th>\n",
       "      <td>5.235294</td>\n",
       "      <td>2.950784</td>\n",
       "    </tr>\n",
       "    <tr>\n",
       "      <th>New</th>\n",
       "      <td>4.746032</td>\n",
       "      <td>3.116984</td>\n",
       "    </tr>\n",
       "    <tr>\n",
       "      <th>Sci-Fi</th>\n",
       "      <td>4.885246</td>\n",
       "      <td>3.219508</td>\n",
       "    </tr>\n",
       "    <tr>\n",
       "      <th>Sports</th>\n",
       "      <td>4.716216</td>\n",
       "      <td>3.125135</td>\n",
       "    </tr>\n",
       "    <tr>\n",
       "      <th>Travel</th>\n",
       "      <td>5.350877</td>\n",
       "      <td>3.235614</td>\n",
       "    </tr>\n",
       "  </tbody>\n",
       "</table>\n",
       "</div>"
      ],
      "text/plain": [
       "             rental_duration  rental_rate\n",
       "name                                     \n",
       "Action              4.953125     2.646250\n",
       "Animation           4.893939     2.808182\n",
       "Children            5.033333     2.890000\n",
       "Classics            5.070175     2.744386\n",
       "Comedy              4.931034     3.162414\n",
       "Documentary         4.764706     2.666471\n",
       "Drama               5.080645     3.022258\n",
       "Family              5.173913     2.758116\n",
       "Foreign             5.109589     3.099589\n",
       "Games               5.065574     3.252295\n",
       "Horror              4.857143     3.025714\n",
       "Music               5.235294     2.950784\n",
       "New                 4.746032     3.116984\n",
       "Sci-Fi              4.885246     3.219508\n",
       "Sports              4.716216     3.125135\n",
       "Travel              5.350877     3.235614"
      ]
     },
     "execution_count": 3,
     "metadata": {},
     "output_type": "execute_result"
    }
   ],
   "source": [
    "grouped_genres = film_genres.groupby('name').mean()[['rental_duration', 'rental_rate']]\n",
    "grouped_genres"
   ]
  },
  {
   "cell_type": "code",
   "execution_count": 4,
   "metadata": {},
   "outputs": [
    {
     "data": {
      "text/plain": [
       "rental_duration    Travel\n",
       "rental_rate         Games\n",
       "dtype: object"
      ]
     },
     "execution_count": 4,
     "metadata": {},
     "output_type": "execute_result"
    }
   ],
   "source": [
    "grouped_genres.idxmax()"
   ]
  },
  {
   "cell_type": "markdown",
   "metadata": {},
   "source": [
    "Agrupando os filmes por gênero e usando a média como função de agregação para as variáveis que estamos interessados, obtemos a tabela acima. Com a função idxmax() vemos que o gênero que tem maior tempo de locação médio, ou seja, o gênero mais alugado é \"Travel\" e o gênero com maior preço de locação médio é \"Games\"."
   ]
  },
  {
   "cell_type": "markdown",
   "metadata": {},
   "source": [
    "Para fins de comparação, podemos ilustrar os resultados da tabela acima em forma de gráfico."
   ]
  },
  {
   "cell_type": "code",
   "execution_count": 5,
   "metadata": {},
   "outputs": [
    {
     "data": {
      "image/png": "[encoded data removed]",
      "text/plain": [
       "<Figure size 1440x720 with 1 Axes>"
      ]
     },
     "metadata": {},
     "output_type": "display_data"
    }
   ],
   "source": [
    "grouped_genres.plot.bar()\n",
    "plt.xlabel('Genre')\n",
    "plt.legend(['Rental Duration', 'Rental Rate'])\n",
    "plt.show()"
   ]
  },
  {
   "cell_type": "markdown",
   "metadata": {},
   "source": [
    "É possível observar que o gênero do filme parece não ter uma significância muito grande na oscilação das suas variáveis observadas."
   ]
  },
  {
   "cell_type": "markdown",
   "metadata": {},
   "source": [
    "## Questão 2: Quais são os filmes mais alugados no Brasil? "
   ]
  },
  {
   "cell_type": "markdown",
   "metadata": {},
   "source": [
    "Quando a questão foi idealizada, além de investigar os filmes mais alugados no Brasil, pensei em analisar as variáveis de gênero, língua e classificação indicativa dos filmes alugados por clientes que ainda estão ativos nas suas locadoras. Para obtermos os dados para responder essa questão, a seguinte consulta SQL:\n",
    "\n",
    "~~~ mysql\n",
    "SELECT \n",
    "\trental.rental_id,\n",
    "\trental.inventory_id,\n",
    "\trental.customer_id,\n",
    "\tcustomer_list.country,\n",
    "\tcustomer_list.notes,\n",
    "\tinventory.film_id,\n",
    "\tfilm.title,\n",
    "\tfilm.language_id,\n",
    "\tlanguage.name,\n",
    "\tfilm.rating,\n",
    "\tfilm_category.category_id,\n",
    "\tcategory.name\n",
    "FROM rental\n",
    "LEFT JOIN customer_list ON rental.customer_id = customer_list.ID\n",
    "LEFT JOIN inventory ON rental.inventory_id = inventory.inventory_id\n",
    "LEFT JOIN film ON inventory.film_id = film.film_id\n",
    "LEFT JOIN language ON film.language_id = language.language_id\n",
    "LEFT JOIN film_category ON film.film_id = film_category.film_id\n",
    "LEFT JOIN category ON film_category.category_id = category.category_id\n",
    "WHERE customer_list.notes = 'active'\n",
    "AND country = 'Brazil'\n",
    "~~~\n",
    "\n",
    "Essa extensa consulta não faz nada além de juntar a informação sobre as locações com as informações dos filmes alugados por clientes no Brasil. Para isso usamos a view \"customer_list\" que já condensa muitas informações sobre os clientes em uma tabela, assim, facilitando a consulta. Novamente, exportamos a tabela resultante para o formato csv e usamos Pandas para realizar a análise dos dados"
   ]
  },
  {
   "cell_type": "code",
   "execution_count": 6,
   "metadata": {},
   "outputs": [
    {
     "data": {
      "text/html": [
       "<div>\n",
       "<style scoped>\n",
       "    .dataframe tbody tr th:only-of-type {\n",
       "        vertical-align: middle;\n",
       "    }\n",
       "\n",
       "    .dataframe tbody tr th {\n",
       "        vertical-align: top;\n",
       "    }\n",
       "\n",
       "    .dataframe thead th {\n",
       "        text-align: right;\n",
       "    }\n",
       "</style>\n",
       "<table border=\"1\" class=\"dataframe\">\n",
       "  <thead>\n",
       "    <tr style=\"text-align: right;\">\n",
       "      <th></th>\n",
       "      <th>rental_id</th>\n",
       "      <th>inventory_id</th>\n",
       "      <th>customer_id</th>\n",
       "      <th>country</th>\n",
       "      <th>notes</th>\n",
       "      <th>film_id</th>\n",
       "      <th>title</th>\n",
       "      <th>language_id</th>\n",
       "      <th>name</th>\n",
       "      <th>rating</th>\n",
       "      <th>category_id</th>\n",
       "      <th>name.1</th>\n",
       "    </tr>\n",
       "  </thead>\n",
       "  <tbody>\n",
       "    <tr>\n",
       "      <th>0</th>\n",
       "      <td>1</td>\n",
       "      <td>367</td>\n",
       "      <td>130</td>\n",
       "      <td>Brazil</td>\n",
       "      <td>active</td>\n",
       "      <td>80</td>\n",
       "      <td>BLANKET BEVERLY</td>\n",
       "      <td>1</td>\n",
       "      <td>English</td>\n",
       "      <td>G</td>\n",
       "      <td>8</td>\n",
       "      <td>Family</td>\n",
       "    </tr>\n",
       "    <tr>\n",
       "      <th>1</th>\n",
       "      <td>9</td>\n",
       "      <td>2580</td>\n",
       "      <td>126</td>\n",
       "      <td>Brazil</td>\n",
       "      <td>active</td>\n",
       "      <td>565</td>\n",
       "      <td>MATRIX SNOWMAN</td>\n",
       "      <td>1</td>\n",
       "      <td>English</td>\n",
       "      <td>PG-13</td>\n",
       "      <td>9</td>\n",
       "      <td>Foreign</td>\n",
       "    </tr>\n",
       "    <tr>\n",
       "      <th>2</th>\n",
       "      <td>80</td>\n",
       "      <td>2478</td>\n",
       "      <td>314</td>\n",
       "      <td>Brazil</td>\n",
       "      <td>active</td>\n",
       "      <td>543</td>\n",
       "      <td>MADIGAN DORADO</td>\n",
       "      <td>1</td>\n",
       "      <td>English</td>\n",
       "      <td>R</td>\n",
       "      <td>16</td>\n",
       "      <td>Travel</td>\n",
       "    </tr>\n",
       "    <tr>\n",
       "      <th>3</th>\n",
       "      <td>82</td>\n",
       "      <td>1388</td>\n",
       "      <td>427</td>\n",
       "      <td>Brazil</td>\n",
       "      <td>active</td>\n",
       "      <td>304</td>\n",
       "      <td>FARGO GANDHI</td>\n",
       "      <td>1</td>\n",
       "      <td>English</td>\n",
       "      <td>G</td>\n",
       "      <td>3</td>\n",
       "      <td>Children</td>\n",
       "    </tr>\n",
       "    <tr>\n",
       "      <th>4</th>\n",
       "      <td>104</td>\n",
       "      <td>4281</td>\n",
       "      <td>310</td>\n",
       "      <td>Brazil</td>\n",
       "      <td>active</td>\n",
       "      <td>932</td>\n",
       "      <td>VALLEY PACKER</td>\n",
       "      <td>1</td>\n",
       "      <td>English</td>\n",
       "      <td>G</td>\n",
       "      <td>5</td>\n",
       "      <td>Comedy</td>\n",
       "    </tr>\n",
       "  </tbody>\n",
       "</table>\n",
       "</div>"
      ],
      "text/plain": [
       "   rental_id  inventory_id  customer_id country   notes  film_id  \\\n",
       "0          1           367          130  Brazil  active       80   \n",
       "1          9          2580          126  Brazil  active      565   \n",
       "2         80          2478          314  Brazil  active      543   \n",
       "3         82          1388          427  Brazil  active      304   \n",
       "4        104          4281          310  Brazil  active      932   \n",
       "\n",
       "             title  language_id     name rating  category_id    name.1  \n",
       "0  BLANKET BEVERLY            1  English      G            8    Family  \n",
       "1   MATRIX SNOWMAN            1  English  PG-13            9   Foreign  \n",
       "2   MADIGAN DORADO            1  English      R           16    Travel  \n",
       "3     FARGO GANDHI            1  English      G            3  Children  \n",
       "4    VALLEY PACKER            1  English      G            5    Comedy  "
      ]
     },
     "execution_count": 6,
     "metadata": {},
     "output_type": "execute_result"
    }
   ],
   "source": [
    "q2_csv = pd.read_csv('q2.csv')\n",
    "q2_csv.head()"
   ]
  },
  {
   "cell_type": "markdown",
   "metadata": {},
   "source": [
    "Como podemos ver no dataframe acima, a consulta devolve uma tabela que relaciona a locação e seu id com o cliente e o seu país de endereço (no caso, o Brasil), e com o filme e sua língua e categoria através do id do inventário."
   ]
  },
  {
   "cell_type": "code",
   "execution_count": 7,
   "metadata": {},
   "outputs": [
    {
     "data": {
      "text/plain": [
       "748"
      ]
     },
     "execution_count": 7,
     "metadata": {},
     "output_type": "execute_result"
    }
   ],
   "source": [
    "len(q2_csv)"
   ]
  },
  {
   "cell_type": "markdown",
   "metadata": {},
   "source": [
    "Olhando primeiramente para a língua dos 748 filmes alugados por clientes no Brasil, podemos ver que todos são em inglês. "
   ]
  },
  {
   "cell_type": "code",
   "execution_count": 8,
   "metadata": {},
   "outputs": [
    {
     "data": {
      "text/plain": [
       "English    748\n",
       "Name: name, dtype: int64"
      ]
     },
     "execution_count": 8,
     "metadata": {},
     "output_type": "execute_result"
    }
   ],
   "source": [
    "q2_csv['name'].value_counts()"
   ]
  },
  {
   "cell_type": "markdown",
   "metadata": {},
   "source": [
    "Analisando a classificação indicativa e gênero dos filmes alugados, é possível observar mais variedade"
   ]
  },
  {
   "cell_type": "code",
   "execution_count": 9,
   "metadata": {},
   "outputs": [
    {
     "data": {
      "image/png": "[encoded data removed]",
      "text/plain": [
       "<Figure size 1440x720 with 2 Axes>"
      ]
     },
     "metadata": {},
     "output_type": "display_data"
    }
   ],
   "source": [
    "def plotGroup(df, column):\n",
    "    series = df[column].value_counts() / len(df) * 100\n",
    "    series.sort_values().plot(kind = 'barh') \n",
    "\n",
    "fig = plt.figure()\n",
    "ax1 = fig.add_subplot(211)\n",
    "plotGroup(q2_csv, 'rating')\n",
    "ax2 = fig.add_subplot(212)\n",
    "plotGroup(q2_csv, 'name.1')\n",
    "\n",
    "ax1.set_xlabel(u'Frequência Relativa (%)')\n",
    "ax1.set_ylabel(u'Classificação Indicativa')\n",
    "ax2.set_xlabel(u'Frequência Relativa (%)')\n",
    "ax2.set_ylabel(u'Gênero')\n",
    "\n",
    "plt.show()"
   ]
  },
  {
   "cell_type": "markdown",
   "metadata": {},
   "source": [
    "O primeiro gráfico acima mostra que em relação à classificação indicativa, aproximadamente um quarto dos filmes alugados são do tipo PG-13 ('Parents Strongly Cautioned': pode não ser apropriado para crianças com menos de 13 anos), seguido por filmes do tipo R ('Restricted': exige acompanhamento de um responsável para jovens abaixo de 17 anos). Em último lugar estão os filmes adequados para todas as idades do tipo G ('General Audiences'). Isso implica que a maioria dos filmes alugados no Brasil são para públicos mais velhos. \n",
    "\n",
    "No segundo gráfico, como na questão 1, estamos analisando os gêneros dos filmes. Nesse caso, representando quase 10% dos filmes alugados no Brasil, está o gênero 'Sci-Fi'. Se compararmos com a primeira questão, é possível ver que o gênero 'Travel', que teve maior tempo de locação médio para toda a base de filmes, não representa muito mais do que 5% das locações neste caso."
   ]
  },
  {
   "cell_type": "markdown",
   "metadata": {},
   "source": [
    "## Questão 3: Quais os cinco atores que mais geram renda para as locadoras?"
   ]
  },
  {
   "cell_type": "markdown",
   "metadata": {},
   "source": [
    "Esta é a questão 10 da planilha disponibilizada no PACA. Para resolvê-la, a estratégia foi fazer uma consulta em que agrupamos as informações dos filmes por ator, assim temos, de quais filmes cada ator participou, quantas vezes foi alugado um filme com esse ator, e quanto dinheiro esse ator rendeu no total para as locadoras.\n",
    "\n",
    "~~~ mysql\n",
    "SELECT \n",
    "\tfilm_list.FID,\n",
    "\tfilm_list.actors,\n",
    "\tGROUP_CONCAT(DISTINCT film_list.title),\n",
    "    COUNT(rental.rental_id),\n",
    "    SUM(payment.amount)\n",
    "FROM film_list\n",
    "LEFT JOIN inventory ON film_list.FID = inventory.film_id\n",
    "LEFT JOIN rental ON inventory.inventory_id = rental.inventory_id\n",
    "LEFT JOIN payment ON rental.rental_id = payment.rental_id\n",
    "GROUP BY film_list.actors\n",
    "~~~\n",
    "\n",
    "Na consulta usamos novamente uma view \"film_list\" que condensa informações dos atores e filmes."
   ]
  },
  {
   "cell_type": "code",
   "execution_count": 10,
   "metadata": {},
   "outputs": [
    {
     "data": {
      "text/plain": [
       "199"
      ]
     },
     "execution_count": 10,
     "metadata": {},
     "output_type": "execute_result"
    }
   ],
   "source": [
    "q3 = pd.read_csv('q3.csv')\n",
    "q3.head()\n",
    "len(q3)"
   ]
  },
  {
   "cell_type": "markdown",
   "metadata": {},
   "source": [
    "É possível ver no dataframe abaixo que para cada ator, temos uma lista dos filmes em que este participou e quanto dinheiro foi gerado baseado nas locações desses filmes. Para descobrir quem são os 5 atores mais rentáveis para as locadores, podemos ordenar o dataframe pela última coluna."
   ]
  },
  {
   "cell_type": "code",
   "execution_count": 11,
   "metadata": {},
   "outputs": [
    {
     "data": {
      "text/html": [
       "<div>\n",
       "<style scoped>\n",
       "    .dataframe tbody tr th:only-of-type {\n",
       "        vertical-align: middle;\n",
       "    }\n",
       "\n",
       "    .dataframe tbody tr th {\n",
       "        vertical-align: top;\n",
       "    }\n",
       "\n",
       "    .dataframe thead th {\n",
       "        text-align: right;\n",
       "    }\n",
       "</style>\n",
       "<table border=\"1\" class=\"dataframe\">\n",
       "  <thead>\n",
       "    <tr style=\"text-align: right;\">\n",
       "      <th></th>\n",
       "      <th>film_list.actors</th>\n",
       "      <th>GROUP_CONCAT(DISTINCT film_list.title)</th>\n",
       "      <th>COUNT(rental.rental_id)</th>\n",
       "      <th>SUM(payment.amount)</th>\n",
       "    </tr>\n",
       "  </thead>\n",
       "  <tbody>\n",
       "    <tr>\n",
       "      <th>0</th>\n",
       "      <td>ADAM GRANT</td>\n",
       "      <td>MIDNIGHT WESTWARD,IDOLS SNATCHERS,SPLENDOR PAT...</td>\n",
       "      <td>281</td>\n",
       "      <td>974.19</td>\n",
       "    </tr>\n",
       "    <tr>\n",
       "      <th>1</th>\n",
       "      <td>ADAM HOPPER</td>\n",
       "      <td>CLUELESS BUCKET,MOCKINGBIRD HOLLYWOOD,NOON PAP...</td>\n",
       "      <td>381</td>\n",
       "      <td>1532.21</td>\n",
       "    </tr>\n",
       "    <tr>\n",
       "      <th>2</th>\n",
       "      <td>AL GARLAND</td>\n",
       "      <td>DRIFTER COMMANDMENTS,GLASS DYING,GRAIL FRANKEN...</td>\n",
       "      <td>413</td>\n",
       "      <td>1525.87</td>\n",
       "    </tr>\n",
       "    <tr>\n",
       "      <th>3</th>\n",
       "      <td>ALAN DREYFUSS</td>\n",
       "      <td>CLUELESS BUCKET,CLASH FREDDY,MASSAGE IMAGE,JUM...</td>\n",
       "      <td>467</td>\n",
       "      <td>1841.33</td>\n",
       "    </tr>\n",
       "    <tr>\n",
       "      <th>4</th>\n",
       "      <td>ALBERT JOHANSSON</td>\n",
       "      <td>FIGHT JAWBREAKER,HARPER DYING,CROOKED FROGMEN,...</td>\n",
       "      <td>521</td>\n",
       "      <td>2202.78</td>\n",
       "    </tr>\n",
       "  </tbody>\n",
       "</table>\n",
       "</div>"
      ],
      "text/plain": [
       "   film_list.actors             GROUP_CONCAT(DISTINCT film_list.title)  \\\n",
       "0        ADAM GRANT  MIDNIGHT WESTWARD,IDOLS SNATCHERS,SPLENDOR PAT...   \n",
       "1       ADAM HOPPER  CLUELESS BUCKET,MOCKINGBIRD HOLLYWOOD,NOON PAP...   \n",
       "2        AL GARLAND  DRIFTER COMMANDMENTS,GLASS DYING,GRAIL FRANKEN...   \n",
       "3     ALAN DREYFUSS  CLUELESS BUCKET,CLASH FREDDY,MASSAGE IMAGE,JUM...   \n",
       "4  ALBERT JOHANSSON  FIGHT JAWBREAKER,HARPER DYING,CROOKED FROGMEN,...   \n",
       "\n",
       "   COUNT(rental.rental_id)  SUM(payment.amount)  \n",
       "0                      281               974.19  \n",
       "1                      381              1532.21  \n",
       "2                      413              1525.87  \n",
       "3                      467              1841.33  \n",
       "4                      521              2202.78  "
      ]
     },
     "execution_count": 11,
     "metadata": {},
     "output_type": "execute_result"
    }
   ],
   "source": [
    "q3 = q3.drop(columns = 'film_list.FID')\n",
    "q3.head()"
   ]
  },
  {
   "cell_type": "code",
   "execution_count": 12,
   "metadata": {},
   "outputs": [],
   "source": [
    "ordered_actors = q3.sort_values(by = 'SUM(payment.amount)', ascending = False)"
   ]
  },
  {
   "cell_type": "code",
   "execution_count": 13,
   "metadata": {},
   "outputs": [
    {
     "data": {
      "text/html": [
       "<div>\n",
       "<style scoped>\n",
       "    .dataframe tbody tr th:only-of-type {\n",
       "        vertical-align: middle;\n",
       "    }\n",
       "\n",
       "    .dataframe tbody tr th {\n",
       "        vertical-align: top;\n",
       "    }\n",
       "\n",
       "    .dataframe thead th {\n",
       "        text-align: right;\n",
       "    }\n",
       "</style>\n",
       "<table border=\"1\" class=\"dataframe\">\n",
       "  <thead>\n",
       "    <tr style=\"text-align: right;\">\n",
       "      <th></th>\n",
       "      <th>film_list.actors</th>\n",
       "      <th>GROUP_CONCAT(DISTINCT film_list.title)</th>\n",
       "      <th>COUNT(rental.rental_id)</th>\n",
       "      <th>SUM(payment.amount)</th>\n",
       "    </tr>\n",
       "  </thead>\n",
       "  <tbody>\n",
       "    <tr>\n",
       "      <th>180</th>\n",
       "      <td>SUSAN DAVIS</td>\n",
       "      <td>CASUALTIES ENCINO,DRAGON SQUAD,EXCITEMENT EVE,...</td>\n",
       "      <td>825</td>\n",
       "      <td>3538.74</td>\n",
       "    </tr>\n",
       "    <tr>\n",
       "      <th>65</th>\n",
       "      <td>GINA DEGENERES</td>\n",
       "      <td>CLUELESS BUCKET,EXCITEMENT EVE,MIDNIGHT WESTWA...</td>\n",
       "      <td>753</td>\n",
       "      <td>3442.49</td>\n",
       "    </tr>\n",
       "    <tr>\n",
       "      <th>125</th>\n",
       "      <td>MATTHEW CARREY</td>\n",
       "      <td>LUST LOCK,MINDS TRUMAN,TRIP NEWTON,WORST BANGE...</td>\n",
       "      <td>678</td>\n",
       "      <td>2742.19</td>\n",
       "    </tr>\n",
       "    <tr>\n",
       "      <th>123</th>\n",
       "      <td>MARY KEITEL</td>\n",
       "      <td>FANTASY TROOPERS,FORREST SONS,HANDICAP BOONDOC...</td>\n",
       "      <td>674</td>\n",
       "      <td>2689.25</td>\n",
       "    </tr>\n",
       "    <tr>\n",
       "      <th>173</th>\n",
       "      <td>SCARLETT DAMON</td>\n",
       "      <td>CROW GREASE,MINDS TRUMAN,BORROWERS BEDAZZLED,E...</td>\n",
       "      <td>572</td>\n",
       "      <td>2655.28</td>\n",
       "    </tr>\n",
       "  </tbody>\n",
       "</table>\n",
       "</div>"
      ],
      "text/plain": [
       "    film_list.actors             GROUP_CONCAT(DISTINCT film_list.title)  \\\n",
       "180      SUSAN DAVIS  CASUALTIES ENCINO,DRAGON SQUAD,EXCITEMENT EVE,...   \n",
       "65    GINA DEGENERES  CLUELESS BUCKET,EXCITEMENT EVE,MIDNIGHT WESTWA...   \n",
       "125   MATTHEW CARREY  LUST LOCK,MINDS TRUMAN,TRIP NEWTON,WORST BANGE...   \n",
       "123      MARY KEITEL  FANTASY TROOPERS,FORREST SONS,HANDICAP BOONDOC...   \n",
       "173   SCARLETT DAMON  CROW GREASE,MINDS TRUMAN,BORROWERS BEDAZZLED,E...   \n",
       "\n",
       "     COUNT(rental.rental_id)  SUM(payment.amount)  \n",
       "180                      825              3538.74  \n",
       "65                       753              3442.49  \n",
       "125                      678              2742.19  \n",
       "123                      674              2689.25  \n",
       "173                      572              2655.28  "
      ]
     },
     "execution_count": 13,
     "metadata": {},
     "output_type": "execute_result"
    }
   ],
   "source": [
    "ordered_actors.head()"
   ]
  },
  {
   "cell_type": "markdown",
   "metadata": {},
   "source": [
    "Logo, os 5 atores que mais geram renda para as locadoras são \"SUSAN DAVIS\", \"GINA DEGENERES\", \"MATTHEW CARREY\", \"MARY KEITEL\" e \"SCARLETT DAMON\" cujo total acumulado de dinheiro das locações está entre 2655.28 e 3538.74.   "
   ]
  },
  {
   "cell_type": "markdown",
   "metadata": {},
   "source": [
    "## Questão 4: Apresente evidências que os dados do Sakila são, ou não, reais."
   ]
  },
  {
   "cell_type": "markdown",
   "metadata": {},
   "source": [
    "Para resolver a última questão, foi necessário explorar o banco até achar algo que evidenciasse que os dados do Sakila são, de fato, falsos. Além de os filmes e atores presentes não existirem no IMDB (International Movie Database), é possível ver que as datas das locações que estão no banco são anteriores ao lançamento de todos os filmes. Para obter uma tabela que mostre isso, usamos a seguinte consulta:\n",
    "\n",
    "~~~ mysql\n",
    "SELECT \n",
    "\tfilm.film_id,\n",
    "\tfilm.title,\n",
    "\tfilm.release_year,\n",
    "\trental.rental_date,\n",
    "\trental.return_date\n",
    "FROM film\n",
    "LEFT JOIN inventory ON film.film_id = inventory.film_id\n",
    "LEFT JOIN rental ON inventory.inventory_id = rental.inventory_id\n",
    "\n",
    "~~~"
   ]
  },
  {
   "cell_type": "markdown",
   "metadata": {},
   "source": [
    "O dataframe resultante dessa consulta nos mostra a data de lançamento do filme, a data de locação e de retorno de todas as locações da base. Transformando todas as datas para somente o seu ano, podemos comparar um com o outro."
   ]
  },
  {
   "cell_type": "code",
   "execution_count": 14,
   "metadata": {},
   "outputs": [
    {
     "data": {
      "text/html": [
       "<div>\n",
       "<style scoped>\n",
       "    .dataframe tbody tr th:only-of-type {\n",
       "        vertical-align: middle;\n",
       "    }\n",
       "\n",
       "    .dataframe tbody tr th {\n",
       "        vertical-align: top;\n",
       "    }\n",
       "\n",
       "    .dataframe thead th {\n",
       "        text-align: right;\n",
       "    }\n",
       "</style>\n",
       "<table border=\"1\" class=\"dataframe\">\n",
       "  <thead>\n",
       "    <tr style=\"text-align: right;\">\n",
       "      <th></th>\n",
       "      <th>film_id</th>\n",
       "      <th>title</th>\n",
       "      <th>release_year</th>\n",
       "      <th>rental_date</th>\n",
       "      <th>return_date</th>\n",
       "    </tr>\n",
       "  </thead>\n",
       "  <tbody>\n",
       "    <tr>\n",
       "      <th>0</th>\n",
       "      <td>1</td>\n",
       "      <td>ACADEMY DINOSAUR</td>\n",
       "      <td>2006</td>\n",
       "      <td>2005-07-08 19:03:15.000</td>\n",
       "      <td>2005-07-11 21:29:15.000</td>\n",
       "    </tr>\n",
       "    <tr>\n",
       "      <th>1</th>\n",
       "      <td>1</td>\n",
       "      <td>ACADEMY DINOSAUR</td>\n",
       "      <td>2006</td>\n",
       "      <td>2005-08-02 20:13:10.000</td>\n",
       "      <td>2005-08-11 21:35:10.000</td>\n",
       "    </tr>\n",
       "    <tr>\n",
       "      <th>2</th>\n",
       "      <td>1</td>\n",
       "      <td>ACADEMY DINOSAUR</td>\n",
       "      <td>2006</td>\n",
       "      <td>2005-08-21 21:27:43.000</td>\n",
       "      <td>2005-08-30 22:26:43.000</td>\n",
       "    </tr>\n",
       "    <tr>\n",
       "      <th>3</th>\n",
       "      <td>1</td>\n",
       "      <td>ACADEMY DINOSAUR</td>\n",
       "      <td>2006</td>\n",
       "      <td>2005-05-30 20:21:07.000</td>\n",
       "      <td>2005-06-06 00:36:07.000</td>\n",
       "    </tr>\n",
       "    <tr>\n",
       "      <th>4</th>\n",
       "      <td>1</td>\n",
       "      <td>ACADEMY DINOSAUR</td>\n",
       "      <td>2006</td>\n",
       "      <td>2005-06-17 20:24:00.000</td>\n",
       "      <td>2005-06-23 17:45:00.000</td>\n",
       "    </tr>\n",
       "  </tbody>\n",
       "</table>\n",
       "</div>"
      ],
      "text/plain": [
       "   film_id             title  release_year              rental_date  \\\n",
       "0        1  ACADEMY DINOSAUR          2006  2005-07-08 19:03:15.000   \n",
       "1        1  ACADEMY DINOSAUR          2006  2005-08-02 20:13:10.000   \n",
       "2        1  ACADEMY DINOSAUR          2006  2005-08-21 21:27:43.000   \n",
       "3        1  ACADEMY DINOSAUR          2006  2005-05-30 20:21:07.000   \n",
       "4        1  ACADEMY DINOSAUR          2006  2005-06-17 20:24:00.000   \n",
       "\n",
       "               return_date  \n",
       "0  2005-07-11 21:29:15.000  \n",
       "1  2005-08-11 21:35:10.000  \n",
       "2  2005-08-30 22:26:43.000  \n",
       "3  2005-06-06 00:36:07.000  \n",
       "4  2005-06-23 17:45:00.000  "
      ]
     },
     "execution_count": 14,
     "metadata": {},
     "output_type": "execute_result"
    }
   ],
   "source": [
    "q4 = pd.read_csv('q4.csv')\n",
    "q4.head()"
   ]
  },
  {
   "cell_type": "code",
   "execution_count": 42,
   "metadata": {},
   "outputs": [],
   "source": [
    "def releaseYearToDate(year):\n",
    "    date = datetime.strptime(str(year), '%Y')\n",
    "    return date.year"
   ]
  },
  {
   "cell_type": "code",
   "execution_count": 28,
   "metadata": {},
   "outputs": [],
   "source": [
    "def rentalToDate(d):\n",
    "    date = datetime.strptime(str(d), '%Y-%m-%d %H:%M:%S.%f')\n",
    "    return date.year"
   ]
  },
  {
   "cell_type": "code",
   "execution_count": 71,
   "metadata": {},
   "outputs": [],
   "source": [
    "dates_comparison = q4.copy().dropna()"
   ]
  },
  {
   "cell_type": "markdown",
   "metadata": {},
   "source": [
    "No dataframe abaixo, temos os anos de todas as datas do dataframe. Para verificar se todas as locações foram feitas antes dos lançamentos dos filmes, fazemos um filtro que verifica se o lançamento é anterior à locação, e se o ano de locação e de retorno é o mesmo. Se o dataframe reultante dessa filtragem for vazio, sabemos que os dados são falsos, pois todos os filmes foram alugados um ano antes do seu lançamento."
   ]
  },
  {
   "cell_type": "code",
   "execution_count": 72,
   "metadata": {},
   "outputs": [
    {
     "data": {
      "text/html": [
       "<div>\n",
       "<style scoped>\n",
       "    .dataframe tbody tr th:only-of-type {\n",
       "        vertical-align: middle;\n",
       "    }\n",
       "\n",
       "    .dataframe tbody tr th {\n",
       "        vertical-align: top;\n",
       "    }\n",
       "\n",
       "    .dataframe thead th {\n",
       "        text-align: right;\n",
       "    }\n",
       "</style>\n",
       "<table border=\"1\" class=\"dataframe\">\n",
       "  <thead>\n",
       "    <tr style=\"text-align: right;\">\n",
       "      <th></th>\n",
       "      <th>film_id</th>\n",
       "      <th>title</th>\n",
       "      <th>release_year</th>\n",
       "      <th>rental_year</th>\n",
       "      <th>return_year</th>\n",
       "    </tr>\n",
       "  </thead>\n",
       "  <tbody>\n",
       "    <tr>\n",
       "      <th>0</th>\n",
       "      <td>1</td>\n",
       "      <td>ACADEMY DINOSAUR</td>\n",
       "      <td>2006</td>\n",
       "      <td>2005</td>\n",
       "      <td>2005</td>\n",
       "    </tr>\n",
       "    <tr>\n",
       "      <th>1</th>\n",
       "      <td>1</td>\n",
       "      <td>ACADEMY DINOSAUR</td>\n",
       "      <td>2006</td>\n",
       "      <td>2005</td>\n",
       "      <td>2005</td>\n",
       "    </tr>\n",
       "    <tr>\n",
       "      <th>2</th>\n",
       "      <td>1</td>\n",
       "      <td>ACADEMY DINOSAUR</td>\n",
       "      <td>2006</td>\n",
       "      <td>2005</td>\n",
       "      <td>2005</td>\n",
       "    </tr>\n",
       "    <tr>\n",
       "      <th>3</th>\n",
       "      <td>1</td>\n",
       "      <td>ACADEMY DINOSAUR</td>\n",
       "      <td>2006</td>\n",
       "      <td>2005</td>\n",
       "      <td>2005</td>\n",
       "    </tr>\n",
       "    <tr>\n",
       "      <th>4</th>\n",
       "      <td>1</td>\n",
       "      <td>ACADEMY DINOSAUR</td>\n",
       "      <td>2006</td>\n",
       "      <td>2005</td>\n",
       "      <td>2005</td>\n",
       "    </tr>\n",
       "  </tbody>\n",
       "</table>\n",
       "</div>"
      ],
      "text/plain": [
       "   film_id             title  release_year  rental_year  return_year\n",
       "0        1  ACADEMY DINOSAUR          2006         2005         2005\n",
       "1        1  ACADEMY DINOSAUR          2006         2005         2005\n",
       "2        1  ACADEMY DINOSAUR          2006         2005         2005\n",
       "3        1  ACADEMY DINOSAUR          2006         2005         2005\n",
       "4        1  ACADEMY DINOSAUR          2006         2005         2005"
      ]
     },
     "execution_count": 72,
     "metadata": {},
     "output_type": "execute_result"
    }
   ],
   "source": [
    "dates_comparison['release_year'] = map(lambda d: releaseYearToDate(d), dates_comparison['release_year'])\n",
    "dates_comparison['rental_year'] = map(lambda d: rentalToDate(d), dates_comparison['rental_date'])\n",
    "dates_comparison['return_year'] = map(lambda d: rentalToDate(d), dates_comparison['return_date'])\n",
    "dates_comparison = dates_comparison.drop(columns = ['rental_date', 'return_date'])\n",
    "dates_comparison.head()"
   ]
  },
  {
   "cell_type": "code",
   "execution_count": 68,
   "metadata": {},
   "outputs": [],
   "source": [
    "result = dates_comparison[(dates_comparison['release_year'] < dates_comparison['rental_year']) & (dates_comparison['rental_year'] != dates_comparison['return_year'])]"
   ]
  },
  {
   "cell_type": "code",
   "execution_count": 70,
   "metadata": {},
   "outputs": [
    {
     "data": {
      "text/plain": [
       "True"
      ]
     },
     "execution_count": 70,
     "metadata": {},
     "output_type": "execute_result"
    }
   ],
   "source": [
    "result.empty"
   ]
  },
  {
   "cell_type": "markdown",
   "metadata": {},
   "source": [
    "Logo, apresentamos evidências de que os dados do Sakila são falsos."
   ]
  }
 ],
 "metadata": {
  "kernelspec": {
   "display_name": "Python [conda env:default-py2]",
   "language": "python",
   "name": "conda-env-default-py2-py"
  },
  "language_info": {
   "codemirror_mode": {
    "name": "ipython",
    "version": 2
   },
   "file_extension": ".py",
   "mimetype": "text/x-python",
   "name": "python",
   "nbconvert_exporter": "python",
   "pygments_lexer": "ipython2",
   "version": "2.7.14"
  }
 },
 "nbformat": 4,
 "nbformat_minor": 2
}
